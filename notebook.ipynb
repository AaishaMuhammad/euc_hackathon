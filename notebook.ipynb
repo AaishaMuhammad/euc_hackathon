{
 "cells": [
  {
   "cell_type": "code",
   "execution_count": 11,
   "metadata": {},
   "outputs": [
    {
     "data": {
      "text/plain": [
       "True"
      ]
     },
     "execution_count": 11,
     "metadata": {},
     "output_type": "execute_result"
    }
   ],
   "source": [
    "import os\n",
    "import json\n",
    "import requests\n",
    "from dotenv import load_dotenv\n",
    "from groq import Groq\n",
    "\n",
    "\n",
    "load_dotenv()"
   ]
  },
  {
   "cell_type": "code",
   "execution_count": 12,
   "metadata": {},
   "outputs": [],
   "source": [
    "client = Groq(\n",
    "    api_key=os.environ.get(\"GROQ_API_KEY\")\n",
    ")"
   ]
  },
  {
   "cell_type": "code",
   "execution_count": 13,
   "metadata": {},
   "outputs": [
    {
     "name": "stdout",
     "output_type": "stream",
     "text": [
      "Fast language models are crucial for various reasons:\n",
      "\n",
      "1. Efficient Processing: Fast language models can process and analyze large amounts of text quickly, which is essential in today's data-driven world where timely insights are critical. They enable researchers and practitioners to rapidly explore, understand, and utilize textual data.\n",
      "\n",
      "2. Real-time Applications: The speed of these models makes them suitable for real-time applications such as chatbots, virtual assistants, and live translation systems. These applications require immediate responses to provide a seamless user experience.\n",
      "\n",
      "3. Cost-Effectiveness: Faster models reduce computational costs by requiring less processing time and resources. This makes them more accessible and affordable for a wider range of users and applications.\n",
      "\n",
      "4. Improved Accuracy: Some fast language models have demonstrated comparable or even better performance than slower models on certain tasks. This suggests that speed does not necessarily compromise accuracy, making them highly desirable.\n",
      "\n",
      "5. Advancing AI Research: The development of fast language models pushes the boundaries of what is possible with artificial intelligence. By creating more efficient algorithms and techniques, researchers can continue to improve the capabilities and applications of AI.\n",
      "\n",
      "6. Enabling New Use Cases: Fast language models open up new possibilities for AI applications that were previously limited by processing time. For instance, they could enable real-time sentiment analysis, instant language translation, or rapid content generation.\n",
      "\n",
      "7. Enhancing User Experience: Fast language models can significantly enhance user experience in various applications. For example, a fast language model used in a search engine can provide quicker and more relevant search results, leading to higher user satisfaction.\n",
      "\n",
      "8. Supporting Multitasking: With the ability to process information rapidly, fast language models can handle multiple tasks simultaneously, making them ideal for applications that require multitasking capabilities.\n",
      "\n",
      "9. Facilitating Data Analysis: Fast language models can quickly analyze large datasets, providing insights and patterns that might be difficult or time-consuming to identify manually.\n",
      "\n",
      "10. Encouraging Innovation: The existence of fast language models inspires further innovation in the field of natural language processing. As researchers strive to create even faster and more accurate models, the technology continues to evolve and improve.\n"
     ]
    }
   ],
   "source": [
    "chat_completion = client.chat.completions.create(\n",
    "    messages=[\n",
    "        {\n",
    "            \"role\": \"user\",\n",
    "            \"content\": \"Explain the importance of fast language models\"\n",
    "        }\n",
    "    ],\n",
    "    model = \"llama3-groq-70b-8192-tool-use-preview\"\n",
    ")\n",
    "\n",
    "print(chat_completion.choices[0].message.content)"
   ]
  },
  {
   "cell_type": "code",
   "execution_count": 10,
   "metadata": {},
   "outputs": [
    {
     "name": "stdout",
     "output_type": "stream",
     "text": [
      "Ibuprofen is classified as a nonsteroidal anti-inflammatory drug (NSAID). Some of the most common side effects of Ibuprofen include:\n",
      "\n",
      "1. Nausea\n",
      "2. Vomiting\n",
      "3. Diarrhea\n",
      "4. Abdominal pain\n",
      "5. Headache\n",
      "6. Dizziness\n",
      "7. Sleepiness\n",
      "8. Ringing in the ears\n",
      "9. Increased sensitivity to light\n",
      "10. Swelling of the hands and feet\n"
     ]
    }
   ],
   "source": [
    "chat_completion = client.chat.completions.create(\n",
    "    messages=[\n",
    "        {\n",
    "            \"role\": \"user\",\n",
    "            \"content\": \"What is the pharmacologic class of the drug Ibuprofen? and what are some of its common sideeffects? limit the answer to the 10 most common ones.\"\n",
    "        }\n",
    "    ],\n",
    "    model = \"llama3-groq-70b-8192-tool-use-preview\"\n",
    ")\n",
    "\n",
    "print(chat_completion.choices[0].message.content)"
   ]
  },
  {
   "cell_type": "code",
   "execution_count": 14,
   "metadata": {},
   "outputs": [],
   "source": [
    "class ReactionCounts:\n",
    "\n",
    "    JSON = {\n",
    "        \"name\": \"get_reaction_counts\",\n",
    "        \"description\": \"For a given type of drug, retrieve the types of averse reactions recorded in the drugs database, along with the total count of each type of occurrence.\",\n",
    "        \"prarameters\": {\n",
    "            \"type\": \"object\", \n",
    "            \"properties\": {\n",
    "                \"drug_type\": {\n",
    "                    \"type\": \"string\",\n",
    "                    \"description\": \"The pharmacologic class of the drug, e.g. nonsteroidal anti-inflammatory drug.\"\n",
    "                }\n",
    "            },\n",
    "            \"required\": [\"drug_type\"]\n",
    "        }\n",
    "    }\n",
    "\n",
    "    def get_reaction_counts(drug_type): \n",
    "\n",
    "        drug_name = drug_type.replace(\" \", \"+\")\n",
    "        url = f'https://api.fda.gov/drug/event.json?search=patient.drug.openfda.pharm_class_epc:\"{drug_name}\"&count=patient.reaction.reactionmeddrapt.exact'\n",
    "\n",
    "        response = requests.get(url)\n",
    "        return response.json()"
   ]
  },
  {
   "cell_type": "code",
   "execution_count": 15,
   "metadata": {},
   "outputs": [],
   "source": [
    "class TypesReactions:\n",
    "\n",
    "    JSON = {\n",
    "        \"name\": \"get_types_reactions\",\n",
    "        \"description\": \"For a given type of drug, retrieve the top ten most frequently occuring types of averse reactions recorded in the drugs database.\",\n",
    "        \"prarameters\": {\n",
    "            \"type\": \"object\", \n",
    "            \"properties\": {\n",
    "                \"drug_type\": {\n",
    "                    \"type\": \"string\",\n",
    "                    \"description\": \"The pharmacologic class of the drug, e.g. nonsteroidal anti-inflammatory drug.\"\n",
    "                }\n",
    "            },\n",
    "            \"required\": [\"drug_type\"]\n",
    "        }\n",
    "    }\n",
    "\n",
    "    def get_types_reactions(drug_type): \n",
    "\n",
    "        drug_name = drug_type.replace(\" \", \"+\")\n",
    "        url = f'https://api.fda.gov/drug/event.json?search=patient.drug.openfda.pharm_class_epc:\"{drug_name}\"&count=patient.reaction.reactionmeddrapt.exact&limit=10'\n",
    "\n",
    "        response = requests.get(url)\n",
    "        return response.json"
   ]
  },
  {
   "cell_type": "code",
   "execution_count": 16,
   "metadata": {},
   "outputs": [],
   "source": [
    "def run_conversation(user_prompt): \n",
    "    MODEL=\"llama3-groq-70b-8192-tool-use-preview\"\n",
    "\n",
    "    messages=[\n",
    "        {\n",
    "            \"role\": \"system\",\n",
    "            \"content\": \"\"\"Answer any queries the user has about medicinal drugs.\n",
    "            The user will likely use the common name of a medication. Use the provided functions to find more precise information by deriving the pharmacologic class of the drug and then calling the appropriate functions.\n",
    "            Inform the user that this data is not specific to the mentioned drug, but rather applicabe to the entire class of drugs.\"\"\"\n",
    "        },\n",
    "        {\n",
    "            \"role\": \"user\",\n",
    "            \"content\": user_prompt\n",
    "        }\n",
    "    ]\n",
    "    \n",
    "    tools = [\n",
    "        {\n",
    "            \"type\": \"function\", \n",
    "            \"function\": ReactionCounts.JSON\n",
    "        },\n",
    "        {\n",
    "            \"type\": \"function\",\n",
    "            \"function\": TypesReactions.JSON\n",
    "        }\n",
    "    ]\n",
    "\n",
    "    response = client.chat.completions.create(\n",
    "        model=MODEL,\n",
    "        messages=messages,\n",
    "        stream=False,\n",
    "        tools=tools,\n",
    "        tool_choice=\"auto\"\n",
    "    )\n",
    "\n",
    "    response_message = response.choices[0].message\n",
    "    tool_calls = response_message.tool_calls\n",
    "    if tool_calls: \n",
    "        print(tool_calls)\n",
    "\n",
    "        available_functions = {\n",
    "            \"get_reaction_counts\": ReactionCounts.get_reaction_counts,\n",
    "            \"get_types_reactions\": TypesReactions.get_types_reactions\n",
    "        }\n",
    "\n",
    "        messages.append(response_message)\n",
    "\n",
    "        for tool_call in tool_calls: \n",
    "            function_name = tool_call.function.name\n",
    "            function_to_call = available_functions[function_name]\n",
    "            function_args = json.loads(tool_call.function.arguments)\n",
    "\n",
    "            function_response = function_to_call(\n",
    "                drug_type=function_args.get(\"drug_type\")\n",
    "            )\n",
    "\n",
    "            messages.append(\n",
    "                {\n",
    "                    \"tool_call_id\": tool_call.id,\n",
    "                    \"role\": \"tool\", \n",
    "                    \"name\": function_name,\n",
    "                    \"content\": function_response\n",
    "                }\n",
    "            )\n",
    "\n",
    "        second_response = client.chat.completions.create(\n",
    "            model=MODEL,\n",
    "            messages=messages\n",
    "        )\n",
    "\n",
    "        return second_response.choices[0].message.content\n"
   ]
  },
  {
   "cell_type": "code",
   "execution_count": 17,
   "metadata": {},
   "outputs": [
    {
     "name": "stdout",
     "output_type": "stream",
     "text": [
      "[ChatCompletionMessageToolCall(id='call_kmhd', function=Function(arguments='{}', name='get_types_reactions'), type='function'), ChatCompletionMessageToolCall(id='call_4gqn', function=Function(arguments='{}', name='get_reaction_counts'), type='function')]\n"
     ]
    },
    {
     "ename": "AttributeError",
     "evalue": "'NoneType' object has no attribute 'replace'",
     "output_type": "error",
     "traceback": [
      "\u001b[1;31m---------------------------------------------------------------------------\u001b[0m",
      "\u001b[1;31mAttributeError\u001b[0m                            Traceback (most recent call last)",
      "Cell \u001b[1;32mIn[17], line 1\u001b[0m\n\u001b[1;32m----> 1\u001b[0m \u001b[38;5;28mprint\u001b[39m(\u001b[43mrun_conversation\u001b[49m\u001b[43m(\u001b[49m\u001b[38;5;124;43m\"\u001b[39;49m\u001b[38;5;124;43mWhat are some of the common side effects of ibuprofen?\u001b[39;49m\u001b[38;5;124;43m\"\u001b[39;49m\u001b[43m)\u001b[49m)\n",
      "Cell \u001b[1;32mIn[16], line 53\u001b[0m, in \u001b[0;36mrun_conversation\u001b[1;34m(user_prompt)\u001b[0m\n\u001b[0;32m     50\u001b[0m     function_to_call \u001b[38;5;241m=\u001b[39m available_functions[function_name]\n\u001b[0;32m     51\u001b[0m     function_args \u001b[38;5;241m=\u001b[39m json\u001b[38;5;241m.\u001b[39mloads(tool_call\u001b[38;5;241m.\u001b[39mfunction\u001b[38;5;241m.\u001b[39marguments)\n\u001b[1;32m---> 53\u001b[0m     function_response \u001b[38;5;241m=\u001b[39m \u001b[43mfunction_to_call\u001b[49m\u001b[43m(\u001b[49m\n\u001b[0;32m     54\u001b[0m \u001b[43m        \u001b[49m\u001b[43mdrug_type\u001b[49m\u001b[38;5;241;43m=\u001b[39;49m\u001b[43mfunction_args\u001b[49m\u001b[38;5;241;43m.\u001b[39;49m\u001b[43mget\u001b[49m\u001b[43m(\u001b[49m\u001b[38;5;124;43m\"\u001b[39;49m\u001b[38;5;124;43mdrug_type\u001b[39;49m\u001b[38;5;124;43m\"\u001b[39;49m\u001b[43m)\u001b[49m\n\u001b[0;32m     55\u001b[0m \u001b[43m    \u001b[49m\u001b[43m)\u001b[49m\n\u001b[0;32m     57\u001b[0m     messages\u001b[38;5;241m.\u001b[39mappend(\n\u001b[0;32m     58\u001b[0m         {\n\u001b[0;32m     59\u001b[0m             \u001b[38;5;124m\"\u001b[39m\u001b[38;5;124mtool_call_id\u001b[39m\u001b[38;5;124m\"\u001b[39m: tool_call\u001b[38;5;241m.\u001b[39mid,\n\u001b[1;32m   (...)\u001b[0m\n\u001b[0;32m     63\u001b[0m         }\n\u001b[0;32m     64\u001b[0m     )\n\u001b[0;32m     66\u001b[0m second_response \u001b[38;5;241m=\u001b[39m client\u001b[38;5;241m.\u001b[39mchat\u001b[38;5;241m.\u001b[39mcompletions\u001b[38;5;241m.\u001b[39mcreate(\n\u001b[0;32m     67\u001b[0m     model\u001b[38;5;241m=\u001b[39mMODEL,\n\u001b[0;32m     68\u001b[0m     messages\u001b[38;5;241m=\u001b[39mmessages\n\u001b[0;32m     69\u001b[0m )\n",
      "Cell \u001b[1;32mIn[15], line 20\u001b[0m, in \u001b[0;36mTypesReactions.get_types_reactions\u001b[1;34m(drug_type)\u001b[0m\n\u001b[0;32m     18\u001b[0m \u001b[38;5;28;01mdef\u001b[39;00m \u001b[38;5;21mget_types_reactions\u001b[39m(drug_type): \n\u001b[1;32m---> 20\u001b[0m     drug_name \u001b[38;5;241m=\u001b[39m \u001b[43mdrug_type\u001b[49m\u001b[38;5;241;43m.\u001b[39;49m\u001b[43mreplace\u001b[49m(\u001b[38;5;124m\"\u001b[39m\u001b[38;5;124m \u001b[39m\u001b[38;5;124m\"\u001b[39m, \u001b[38;5;124m\"\u001b[39m\u001b[38;5;124m+\u001b[39m\u001b[38;5;124m\"\u001b[39m)\n\u001b[0;32m     21\u001b[0m     url \u001b[38;5;241m=\u001b[39m \u001b[38;5;124mf\u001b[39m\u001b[38;5;124m'\u001b[39m\u001b[38;5;124mhttps://api.fda.gov/drug/event.json?search=patient.drug.openfda.pharm_class_epc:\u001b[39m\u001b[38;5;124m\"\u001b[39m\u001b[38;5;132;01m{\u001b[39;00mdrug_name\u001b[38;5;132;01m}\u001b[39;00m\u001b[38;5;124m\"\u001b[39m\u001b[38;5;124m&count=patient.reaction.reactionmeddrapt.exact&limit=10\u001b[39m\u001b[38;5;124m'\u001b[39m\n\u001b[0;32m     23\u001b[0m     response \u001b[38;5;241m=\u001b[39m requests\u001b[38;5;241m.\u001b[39mget(url)\n",
      "\u001b[1;31mAttributeError\u001b[0m: 'NoneType' object has no attribute 'replace'"
     ]
    }
   ],
   "source": [
    "print(run_conversation(\"What are some of the common side effects of ibuprofen?\"))"
   ]
  }
 ],
 "metadata": {
  "kernelspec": {
   "display_name": "venv",
   "language": "python",
   "name": "python3"
  },
  "language_info": {
   "codemirror_mode": {
    "name": "ipython",
    "version": 3
   },
   "file_extension": ".py",
   "mimetype": "text/x-python",
   "name": "python",
   "nbconvert_exporter": "python",
   "pygments_lexer": "ipython3",
   "version": "3.12.2"
  }
 },
 "nbformat": 4,
 "nbformat_minor": 2
}
